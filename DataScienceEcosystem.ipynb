{
 "cells": [
  {
   "cell_type": "markdown",
   "id": "b22ffc29-287d-466a-aabe-f625185b6327",
   "metadata": {},
   "source": [
    "<H1>Data Science Tools and Ecosystem</H1>\n"
   ]
  },
  {
   "cell_type": "markdown",
   "id": "eb7d384e-9a36-4b83-b219-40c8d617a00f",
   "metadata": {},
   "source": [
    "In this notebook, Data Science Tools and Ecosystem are summarized."
   ]
  },
  {
   "cell_type": "markdown",
   "id": "aac6fb4e-b5aa-495e-90e3-8f5da4558264",
   "metadata": {},
   "source": [
    "Some of the popular languages that Data Scientists use are:\r\n",
    "\r\n",
    "1. **Python**: Known for its readability and wide range of libraries like Pandas, Scikit-learn, and TensorFlow.\r\n",
    "2. **R**: A language specialized for statistical computing and data visualization.\r\n",
    "3. **SQL**: Used for querying and managing databases, essential for working with structured data.\r\n",
    "\r\n",
    "Other popular languages include Julia (for high-performance numerical computing) and Scala (often used with Apache Sp\n",
    "ark).\r\n"
   ]
  },
  {
   "attachments": {},
   "cell_type": "markdown",
   "id": "33f50be3-3327-4695-ae04-fc1a2c83f92c",
   "metadata": {},
   "source": [
    "#### Some of the commonly used libraries used by Data Scientists include:\n",
    "1. Pandas\n",
    "2. Scikit-learn\n",
    "3. Matplotlib\n",
    "ib\r\n"
   ]
  },
  {
   "cell_type": "markdown",
   "id": "8d21dc37-634d-4f93-a470-bdec1e8304eb",
   "metadata": {},
   "source": [
    "| Data Science Tools  |\n",
    "|---------------------|\n",
    "| Jupyter Notebook    |\n",
    "| RStudio             |\n",
    "| VS Code             |\n"
   ]
  },
  {
   "cell_type": "markdown",
   "id": "3e778829-a928-40c5-84c4-3fa7046f6892",
   "metadata": {},
   "source": [
    "# introducing arithmetic expression examples\n",
    "### Below are a few examples of evaluating arithmetic expressions in Python.\n",
    "\n",
    "\n"
   ]
  },
  {
   "cell_type": "code",
   "execution_count": 5,
   "id": "f2b9405e-e848-4286-88e9-2b944f318ccd",
   "metadata": {},
   "outputs": [
    {
     "data": {
      "text/plain": [
       "17"
      ]
     },
     "execution_count": 5,
     "metadata": {},
     "output_type": "execute_result"
    }
   ],
   "source": [
    "# This is a simple arithmetic expression to multiply then add integers\n",
    "result = (3 * 4) + 5\n",
    "result\n"
   ]
  },
  {
   "cell_type": "code",
   "execution_count": 7,
   "id": "40f5bc18-2e3e-450d-bbfd-eabee455b88f",
   "metadata": {},
   "outputs": [
    {
     "data": {
      "text/plain": [
       "3.3333333333333335"
      ]
     },
     "execution_count": 7,
     "metadata": {},
     "output_type": "execute_result"
    }
   ],
   "source": [
    "#This will convert 200 minutes to hours by diving by 60\n",
    "minutes =200\n",
    "Hours = minutes/60\n",
    "Hours"
   ]
  },
  {
   "cell_type": "markdown",
   "id": "925aaaa4-3f96-4cce-b991-874697c821c3",
   "metadata": {},
   "source": [
    "**Objectives:**\r\n",
    "\r\n",
    "- List popular languages for Data Science\r\n",
    "- Identify key libraries and tools used in Data Science\r\n",
    "- Explain the importance of data preprocessing and cleaning\r\n",
    "- Describe basic data visualization techniques\r\n",
    "- Understand the fundamentals of machine learning algorithms\r\n"
   ]
  },
  {
   "cell_type": "markdown",
   "id": "a4451beb-1eb6-4e48-9dce-b0d8886344ca",
   "metadata": {},
   "source": [
    "## Author\n",
    "Karthikeyan L\n"
   ]
  },
  {
   "cell_type": "code",
   "execution_count": null,
   "id": "9ad91210-f6b8-4d23-a456-ebc1ece78dcd",
   "metadata": {},
   "outputs": [],
   "source": []
  }
 ],
 "metadata": {
  "kernelspec": {
   "display_name": "Python 3 (ipykernel)",
   "language": "python",
   "name": "python3"
  },
  "language_info": {
   "codemirror_mode": {
    "name": "ipython",
    "version": 3
   },
   "file_extension": ".py",
   "mimetype": "text/x-python",
   "name": "python",
   "nbconvert_exporter": "python",
   "pygments_lexer": "ipython3",
   "version": "3.11.7"
  }
 },
 "nbformat": 4,
 "nbformat_minor": 5
}
